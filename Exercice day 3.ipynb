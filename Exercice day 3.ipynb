{
 "cells": [
  {
   "cell_type": "markdown",
   "metadata": {},
   "source": [
    "# Day 3 Exercices"
   ]
  },
  {
   "cell_type": "markdown",
   "metadata": {},
   "source": [
    "### Question 1"
   ]
  },
  {
   "cell_type": "markdown",
   "metadata": {},
   "source": [
    "\n",
    "**A student create two variables. One contains his firstname and the other\n",
    "one contains his lastname. I want you to print both names with a space between**\n",
    "\n",
    "i.e:\n",
    "\n",
    "    firstname = \"Susan\"\n",
    "    lastname = \"Mowers\"\n",
    "\n",
    "    print(firstname + add something + lastname)\n",
    "\n",
    "    #result => Susan Mowers\n"
   ]
  },
  {
   "cell_type": "code",
   "execution_count": null,
   "metadata": {
    "collapsed": true
   },
   "outputs": [],
   "source": []
  },
  {
   "cell_type": "markdown",
   "metadata": {},
   "source": [
    "### Question 2"
   ]
  },
  {
   "cell_type": "markdown",
   "metadata": {},
   "source": [
    "**I have a variable that contains many students. \n",
    "I want to know what type of Data Objects that variable is.\n",
    "What function can I use to know that information?**\n",
    "\n",
    "tips: look at the list of built-in functions."
   ]
  },
  {
   "cell_type": "markdown",
   "metadata": {},
   "source": [
    "### Question 3"
   ]
  },
  {
   "cell_type": "markdown",
   "metadata": {},
   "source": [
    "**I have a list of students.\n",
    "What function(s) do you think I can use to add one more student\n",
    "in that list**\n",
    "\n",
    "\n",
    "    students = ['Ange', 'Dan', 'Julie']\n",
    "\n",
    "**I want my list to look like this**\n",
    "    ['Ange', 'Dan', 'Julie', 'Miro']\n",
    "\n"
   ]
  },
  {
   "cell_type": "code",
   "execution_count": 3,
   "metadata": {
    "collapsed": true
   },
   "outputs": [],
   "source": [
    "#But I don't know what function can I use to add 'Miro' into my list\n",
    "students = ['Ange', 'Dan', 'Julie']"
   ]
  },
  {
   "cell_type": "markdown",
   "metadata": {},
   "source": [
    "### Question 4"
   ]
  },
  {
   "cell_type": "raw",
   "metadata": {},
   "source": [
    "I have this dictionnary\n",
    "\n",
    "student = {'id': 3456, 'name':'Judy June', 'courses': ['COM4566', 'ADM9873', 'ISI4560']}\n",
    "\n",
    "#This is the same variable writting in a different way to be more readable to you\n",
    "\n",
    "student = {\n",
    "\t\t'id':      3456, \n",
    "\t\t'name':    'Judy June', \n",
    "\t\t'courses': ['COM4566', 'ADM9873', 'ISI4560']\n",
    "}\n",
    "    \n",
    "#I want to know how many courses this students have.\n",
    "\n",
    "#answer\n",
    "i.e: size_of_courses = get_size(get_list_of_courses_for_this_student)"
   ]
  },
  {
   "cell_type": "code",
   "execution_count": 4,
   "metadata": {
    "collapsed": true
   },
   "outputs": [],
   "source": [
    "student = {\n",
    "\t\t'id':      3456, \n",
    "\t\t'name':    'Judy June', \n",
    "\t\t'courses': ['COM4566', 'ADM9873', 'ISI4560']\n",
    "}"
   ]
  },
  {
   "cell_type": "markdown",
   "metadata": {},
   "source": [
    "### Questions 5 "
   ]
  },
  {
   "cell_type": "raw",
   "metadata": {},
   "source": [
    "I have this variables list I want to know how many students are part-time\n",
    "students. \n",
    "\n",
    "students = [\n",
    "{\n",
    "\t\t'id':      4566, \n",
    "\t\t'name':    'Taiwo June', \n",
    "\t\t'courses': ['COM4566', 'ADM9873', 'ISI4560', 'HME4520', 'MNG093', 'HMX0283'],\n",
    "\t\t'grades':  ['A', 'B+', 'C+', 'A-', 'abandon']\n",
    "},\n",
    "{\n",
    "\t\t'id':      9586, \n",
    "\t\t'name':    'Julie Tremblay', \n",
    "\t\t'courses': ['COM4566', 'ADM9873', 'ISI4560', 'HMX0283', 'BIO2394'],\n",
    "\t\t'grades':  ['A+', 'A+', 'A', 'A+', 'A-']\n",
    "},\n",
    "{\n",
    "\t\t'id':      2839, \n",
    "\t\t'name':    'Judy June', \n",
    "\t\t'courses': ['COM4566'],\n",
    "\t\t'grades':  ['A+']\n",
    "},\n",
    "{\n",
    "\t\t'id':      4950, \n",
    "\t\t'name':    'Judy June', \n",
    "\t\t'courses': ['COM4566', 'ADM9873', 'ISI4560'],\n",
    "\t\t'grades':  ['A', 'C+', 'A+']\n",
    "}\n",
    "]\n"
   ]
  },
  {
   "cell_type": "code",
   "execution_count": 7,
   "metadata": {
    "collapsed": true
   },
   "outputs": [],
   "source": [
    "\n",
    "students = [\n",
    "{\n",
    "\t\t'id':      4566, \n",
    "\t\t'name':    'Taiwo June', \n",
    "\t\t'courses': ['COM4566', 'ADM9873', 'ISI4560', 'HME4520', 'MNG093', 'HMX0283'],\n",
    "\t\t'grades':  ['A', 'B+', 'C+', 'A-', 'abandon']\n",
    "},\n",
    "{\n",
    "\t\t'id':      9586, \n",
    "\t\t'name':    'Julie Tremblay', \n",
    "\t\t'courses': ['COM4566', 'ADM9873', 'ISI4560', 'HMX0283', 'BIO2394'],\n",
    "\t\t'grades':  ['A+', 'A+', 'A', 'A+', 'A-']\n",
    "},\n",
    "{\n",
    "\t\t'id':      2839, \n",
    "\t\t'name':    'Judy June', \n",
    "\t\t'courses': ['COM4566'],\n",
    "\t\t'grades':  ['A+']\n",
    "},\n",
    "{\n",
    "\t\t'id':      4950, \n",
    "\t\t'name':    'Judy June', \n",
    "\t\t'courses': ['COM4566', 'ADM9873', 'ISI4560'],\n",
    "\t\t'grades':  ['A', 'C+', 'A+']\n",
    "}\n",
    "]"
   ]
  },
  {
   "cell_type": "code",
   "execution_count": 8,
   "metadata": {
    "collapsed": true
   },
   "outputs": [],
   "source": [
    "#5-a What type of Objects the 'students' variable is. Is it a Dict or a list?\n",
    "#5-b Is this variable an iterable?\n",
    "#5-c Write a script that will determine how many students are part-time students \n",
    "#To be part-time the students needs to have less than 4 courses."
   ]
  },
  {
   "cell_type": "code",
   "execution_count": null,
   "metadata": {
    "collapsed": true
   },
   "outputs": [],
   "source": []
  },
  {
   "cell_type": "markdown",
   "metadata": {},
   "source": [
    "### Question 7"
   ]
  },
  {
   "cell_type": "markdown",
   "metadata": {},
   "source": [
    "**The manager at Shopify wants to know how many items where sold today with the USD\n",
    "currency and what was the total purchases of the day for prices in EUR. \n",
    "The following file contains all the transactions.**"
   ]
  },
  {
   "cell_type": "code",
   "execution_count": 10,
   "metadata": {
    "collapsed": false
   },
   "outputs": [
    {
     "name": "stdout",
     "output_type": "stream",
     "text": [
      "the file \"Shopify.txt\" needs to be in the current directory\n"
     ]
    }
   ],
   "source": [
    "try:\n",
    "    amount = []\n",
    "    with open('shopify.txt') as f:\n",
    "        #read lines by lines\n",
    "        content = f.readlines()\n",
    "        #do something with this line to retrieve only the numbers\n",
    "        #add each price into the list amount by converting them to Int or float\n",
    "except:\n",
    "    print('the file \"Shopify.txt\" needs to be in the current directory')\n",
    "    \n",
    "# do something with the variable 'content'"
   ]
  },
  {
   "cell_type": "markdown",
   "metadata": {},
   "source": [
    "### Question 8"
   ]
  },
  {
   "cell_type": "markdown",
   "metadata": {},
   "source": [
    "Write a script that ask a user what its age. If it age is greater then 18 print you can vote else print 'you cannot vote'"
   ]
  },
  {
   "cell_type": "code",
   "execution_count": null,
   "metadata": {
    "collapsed": true
   },
   "outputs": [],
   "source": []
  },
  {
   "cell_type": "code",
   "execution_count": null,
   "metadata": {
    "collapsed": true
   },
   "outputs": [],
   "source": []
  }
 ],
 "metadata": {
  "anaconda-cloud": {},
  "kernelspec": {
   "display_name": "Python [conda root]",
   "language": "python",
   "name": "conda-root-py"
  },
  "language_info": {
   "codemirror_mode": {
    "name": "ipython",
    "version": 3
   },
   "file_extension": ".py",
   "mimetype": "text/x-python",
   "name": "python",
   "nbconvert_exporter": "python",
   "pygments_lexer": "ipython3",
   "version": "3.5.2"
  }
 },
 "nbformat": 4,
 "nbformat_minor": 1
}
